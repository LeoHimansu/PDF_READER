{
 "cells": [
  {
   "cell_type": "code",
   "execution_count": null,
   "id": "4852e5d4-237e-4ba9-8c37-be224a7e1030",
   "metadata": {},
   "outputs": [
    {
     "name": "stdout",
     "output_type": "stream",
     "text": [
      "speech spopped\n",
      "speech spopped\n",
      "speech spopped\n",
      "speech spopped\n",
      "speech spopped\n",
      "speech spopped\n",
      "speech spopped\n",
      "speech spopped\n",
      "speech spopped\n"
     ]
    }
   ],
   "source": [
    "import PyPDF2\n",
    "import pyttsx3\n",
    "from tkinter.filedialog import askopenfilename\n",
    "from tkinter import Button, Tk\n",
    "\n",
    "def stop_speech():\n",
    "    print(\"speech spopped\")\n",
    "\n",
    "book = askopenfilename(title=\"Select a PDF file\", filetypes=[(\"PDF Files\", \"*.pdf\")])\n",
    "pdfreader = PyPDF2.PdfReader(book)\n",
    "pages = len(pdfreader.pages)\n",
    "player = pyttsx3.init()\n",
    "\n",
    "root = Tk()\n",
    "stop_button = Button(root, text=\"Stop\", command=stop_speech)\n",
    "stop_button.pack()\n",
    "root.mainloop()\n",
    "\n",
    "for num in range(pages):\n",
    "    page = pdfreader.pages[num]\n",
    "    text = page.extract_text()\n",
    "    player.say(text)\n",
    "    \n",
    "player.runAndWait()"
   ]
  },
  {
   "cell_type": "code",
   "execution_count": null,
   "id": "a348805c-e0ad-43e6-8779-b438c2cf73e0",
   "metadata": {},
   "outputs": [],
   "source": []
  }
 ],
 "metadata": {
  "kernelspec": {
   "display_name": "Python 3 (ipykernel)",
   "language": "python",
   "name": "python3"
  },
  "language_info": {
   "codemirror_mode": {
    "name": "ipython",
    "version": 3
   },
   "file_extension": ".py",
   "mimetype": "text/x-python",
   "name": "python",
   "nbconvert_exporter": "python",
   "pygments_lexer": "ipython3",
   "version": "3.13.3"
  }
 },
 "nbformat": 4,
 "nbformat_minor": 5
}
